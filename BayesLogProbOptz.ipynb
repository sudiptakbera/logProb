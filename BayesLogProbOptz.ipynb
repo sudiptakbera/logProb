{
 "metadata": {
  "name": "",
  "signature": "sha256:42d800b5ef2be09ba3c519faa01661d9c1ca5b4ae461e23de432a82e10a8d48c"
 },
 "nbformat": 3,
 "nbformat_minor": 0,
 "worksheets": [
  {
   "cells": [
    {
     "cell_type": "code",
     "collapsed": false,
     "input": [
      "import scipy as sp\n",
      "import scipy.optimize\n",
      "import scipy.stats\n",
      "import scipy.special\n",
      "import numpy as np\n",
      "a=30\n",
      "b=100\n",
      "def f(x):   # The rosenbrock function\n",
      "    gamma = x[0]\n",
      "    D = x[1]\n",
      "    return (a - gamma)**2 + b*(D - gamma**2)**2\n",
      "res = sp.optimize.fmin(f, [2, 2])\n",
      "gamma_out = res[0]\n",
      "D_out = res[1]\n",
      "print(gamma_out,D_out)\n"
     ],
     "language": "python",
     "metadata": {},
     "outputs": [
      {
       "output_type": "stream",
       "stream": "stdout",
       "text": [
        "Warning: Maximum number of function evaluations has been exceeded.\n",
        "(21.980507753672796, 483.01001246332135)\n"
       ]
      }
     ],
     "prompt_number": 8
    },
    {
     "cell_type": "code",
     "collapsed": false,
     "input": [
      "import scipy as sp\n",
      "import scipy.optimize\n",
      "import scipy.stats\n",
      "import scipy.special\n",
      "import numpy as np\n",
      "a=20\n",
      "b=100\n",
      "t=20\n",
      "p=1\n",
      "def f(x):   # The rosenbrock function\n",
      "    gamma = x[0]\n",
      "    D = x[1]\n",
      "    return (a - gamma*t)**2 + b*t**4*(D/p - gamma**2)**2\n",
      "res = sp.optimize.fmin(f, [2, 2])\n",
      "gamma_out = res[0]\n",
      "D_out = res[1]\n",
      "gamma = gamma_out*t\n",
      "D = D_out*t**2/p\n",
      "print(gamma_out,D_out)\n",
      "print(gamma,D)\n"
     ],
     "language": "python",
     "metadata": {},
     "outputs": [
      {
       "output_type": "stream",
       "stream": "stdout",
       "text": [
        "Warning: Maximum number of function evaluations has been exceeded.\n",
        "(1.002211749854216, 1.0044316565327143)\n",
        "(20.04423499708432, 401.77266261308569)\n"
       ]
      }
     ],
     "prompt_number": 11
    },
    {
     "cell_type": "code",
     "collapsed": false,
     "input": [
      "import scipy as sp\n",
      "import scipy.optimize\n",
      "import scipy.stats\n",
      "import scipy.special\n",
      "import numpy as np\n",
      "from scipy.optimize import fmin_bfgs\n",
      "a=2\n",
      "b=1\n",
      "def f(x):   # The rosenbrock function\n",
      "    gamma = x[0]\n",
      "    D = x[1]\n",
      "    return (a - gamma)**2 + b*(D - gamma**2)**2\n",
      "def fprime(x):\n",
      "    return np.array((-2*(a - gamma) - 4*b*gamma*(D - gamma**2), 2*b*(D - gamma**2)))\n",
      "res=fmin_bfgs(f, [2, 2], fprime=fprime)\n",
      "print(res[0],res[1])"
     ],
     "language": "python",
     "metadata": {},
     "outputs": [
      {
       "output_type": "stream",
       "stream": "stdout",
       "text": [
        "Warning: Desired error not necessarily achieved due to precision loss.\n",
        "         Current function value: 4.000000\n",
        "         Iterations: 0\n",
        "         Function evaluations: 43\n",
        "         Gradient evaluations: 32\n",
        "(2, 2)\n"
       ]
      }
     ],
     "prompt_number": 21
    },
    {
     "cell_type": "code",
     "collapsed": false,
     "input": [],
     "language": "python",
     "metadata": {},
     "outputs": []
    }
   ],
   "metadata": {}
  }
 ]
}