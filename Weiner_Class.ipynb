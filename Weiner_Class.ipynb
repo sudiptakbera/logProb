{
 "metadata": {
  "name": "",
  "signature": "sha256:49f175eaa2413d1fffa29eb358363d020b38c8aa10e31295880d873df4cf34de"
 },
 "nbformat": 3,
 "nbformat_minor": 0,
 "worksheets": [
  {
   "cells": [
    {
     "cell_type": "code",
     "collapsed": false,
     "input": [
      "from __future__ import division\n",
      "import numpy as np\n",
      "import matplotlib.pyplot as plt\n",
      "\n",
      "class WienerProcess:\n",
      "      Count = 0\n",
      "      def __init__(self, theta):\n",
      "            self.D= theta\n",
      "            #theta12.Count += 1\n",
      "      def logProbwe(self):\n",
      "          data = np.genfromtxt('D500we.txt')\n",
      "          dt = 2.5e-5\n",
      "          N = len(data)\n",
      "          dx2 = sum((data[1:] - data[:-1])**2)\n",
      "          s = -dx2/(4*self.D*dt) - np.log(self.D) -0.5*(N-1)*np.log(4*self.D*np.pi*(dt))\n",
      "          return s\n",
      "      #def setPrior(self, prior):\n",
      "          #'''priors for parameters'''\n",
      "      #def logProb(self,theta):\n",
      "         # '''analytical expression for the logarithm of the posterior'''\n",
      "         # return theta\n",
      "      #def mapEstimate(self, method):\n",
      "          #'''analytical or numerical maximum aposteriori estimate of parameters'''\n",
      "          #return -dx2/(4*self.theta*dt) - np.log(D) -0.5*(N-1)*np.log(4*D*np.pi*(dt))\n",
      "          #return -dx2/(4*self.theta*dt) - np.log(self.theta) -0.5*(N-1)*np.log(4*self.theta*np.pi*(dt))\n",
      "      #def normalEstimate(self):\n",
      "          #'''analytical estimate of parameters assuming asymptotic normality'''\n",
      "     # def posteriorInterval(self, percent):\n",
      "          #'''domain containing p percent of the probability'''\n",
      "      #def plotLogProb(self, extent):\n",
      "          #'''plot of the posterior probability'''"
     ],
     "language": "python",
     "metadata": {},
     "outputs": [],
     "prompt_number": 13
    },
    {
     "cell_type": "code",
     "collapsed": false,
     "input": [
      "data = np.genfromtxt('D500we.txt')\n",
      "N = len(data)\n",
      "c = WienerProcess(np.linspace(400,600,N-1))"
     ],
     "language": "python",
     "metadata": {},
     "outputs": [],
     "prompt_number": 14
    },
    {
     "cell_type": "code",
     "collapsed": false,
     "input": [
      "s=c.logProbwe()\n",
      "ax = plt.subplot(111)\n",
      "ax.plot(np.linspace(400,600,N-1),s)\n",
      "plt.show()"
     ],
     "language": "python",
     "metadata": {},
     "outputs": [
      {
       "metadata": {},
       "output_type": "display_data",
       "png": "[encoded data removed]",
       "text": [
        "<matplotlib.figure.Figure at 0x3061650>"
       ]
      }
     ],
     "prompt_number": 18
    },
    {
     "cell_type": "code",
     "collapsed": false,
     "input": [],
     "language": "python",
     "metadata": {},
     "outputs": []
    }
   ],
   "metadata": {}
  }
 ]
}