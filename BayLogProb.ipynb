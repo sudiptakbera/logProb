{
 "metadata": {
  "name": "",
  "signature": "sha256:86e1deaa39a7215d6c1d643384e80219f94bb3d35913baa11c3188a922b8a6e0"
 },
 "nbformat": 3,
 "nbformat_minor": 0,
 "worksheets": [
  {
   "cells": [
    {
     "cell_type": "code",
     "collapsed": false,
     "input": [
      "import  numpy as np\n",
      "import matplotlib.pyplot as plt\n",
      "import pyprocess\n",
      "from __future__ import division\n",
      "import matplotlib.pyplot as plt\n",
      "                 #####################parameters###################################\n",
      "mu=0\n",
      "D1=1e-13\n",
      "gamma1=2*np.pi*500\n",
      "kB = 1.38e-23\n",
      "T = 300\n",
      "beta = 1/(kB*T)\n",
      "a= 1e-8 # length dimension matching\n",
      "             ########### Data Generation by Wiener and OU process ############\n",
      "bm = pyprocess.OU_process(gamma1,0,math.sqrt(2*D1),startTime = 0, startPosition = 0, endPosition = None, endTime = None)\n",
      "#we = pr.Wiener_process(0,math.sqrt(2*D),startTime = 0, startPosition = 0, endPosition = None, endTime = None)\n",
      "tBegin=0\n",
      "tEnd=5\n",
      "dt=2.5e-5\n",
      "t = np.arange(tBegin, tEnd, dt)\n",
      "x=bm.sample_path (t , N = 1)\n",
      "x=np.transpose(x)\n",
      "          ####################Parameters Estimation by exact solution######################\n",
      "data=x\n",
      "N=len(data)\n",
      "gamma =( 1/dt)*np.log((np.sum(data[0:]**2)/N)/(np.sum(data[1:]*x[:-1])/N))\n",
      "D = gamma*(np.sum((data[1:]-x[:-1]*np.exp(-gamma*dt))**2)/N)/(1-np.exp(-2*gamma*dt))\n",
      "print (gamma,D)\n",
      "          ##################### Parameters Estimation by Graphical Solution#######################\n",
      "#N = len(data)\n",
      "#gamma = np.linspace(0.07,.075,100)\n",
      "#D = np.linspace(0.022,0.028,100)\n",
      "#z=np.zeros((len(gamma),len(D)))\n",
      "#for j in xrange(0,len(gamma)):\n",
      "       #for k in xrange(0,len(D)): \n",
      "            # dx2=np.sum((data[1:]-data[:-1]*np.exp(-gamma[j]))**2)\n",
      "           #  I = 1-np.exp(-2*gamma[j])\n",
      "             #z[j,k]=0.5*(N-1)*np.log(gamma[j]/(2*np.pi*D[k]*I*(a**2)))-gamma[j]*dx2/(2*D[k]*I*(a**2))\n",
      "#D, gamma = np.meshgrid(gamma[5:], D[5:])\n",
      "#plt.clf()\n",
      "#plt.axis([D.min(), D.max(), gamma.min(), gamma.max()])\n",
      "#plt.pcolor(D, gamma,z[5:,5:])\n",
      "#plt.colorbar()\n",
      "#plt.axis('tight')\n",
      "#plt.show()"
     ],
     "language": "python",
     "metadata": {},
     "outputs": []
    }
   ],
   "metadata": {}
  }
 ]
}